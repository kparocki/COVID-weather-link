{
 "cells": [
  {
   "cell_type": "code",
   "execution_count": null,
   "metadata": {},
   "outputs": [],
   "source": [
    "import pandas as pd\n",
    "\n",
    "# importing the data set\n",
    "weather = pd.read_csv(\"../data/raw/weather/weather.csv\") # the file path should work for all\n",
    "\n",
    "# finding the dimension of the data \n",
    "\n",
    "weather_size = weather.size  # reports the total size of it\n",
    "weather_shape = weather.shape # reports the shape of the dataset\n",
    "print(weather_size)\n",
    "print(weather_shape)   "
   ]
  },
  {
   "cell_type": "code",
   "execution_count": null,
   "metadata": {},
   "outputs": [],
   "source": [
    "# checking if there is any missing data \n",
    "\n",
    "weather.isna().any().any()\n"
   ]
  },
  {
   "cell_type": "code",
   "execution_count": null,
   "metadata": {},
   "outputs": [],
   "source": [
    "weather"
   ]
  },
  {
   "cell_type": "code",
   "execution_count": null,
   "metadata": {},
   "outputs": [],
   "source": [
    "#taking only the country of interest\n",
    "\n",
    "sweden_weather = weather[weather[\"iso3166-2\"].str.startswith(\"SE\")]\n",
    "\n",
    "sweden_weather.shape\n",
    "\n",
    "sweden_weather "
   ]
  },
  {
   "cell_type": "code",
   "execution_count": null,
   "metadata": {},
   "outputs": [],
   "source": [
    "#grouping weather by region and finding min, median, mean and max for each\n",
    "\n",
    "weather_region = sweden_weather.groupby(by= \"iso3166-2\").agg([\"min\", \"mean\", \"median\", \"max\"])\n",
    "\n",
    "weather_region"
   ]
  },
  {
   "cell_type": "code",
   "execution_count": null,
   "metadata": {},
   "outputs": [],
   "source": [
    "uv_plot = weather_region[\"UVIndex\"].plot.bar(y=\"mean\", color = \"green\")\n",
    "uv_plot\n"
   ]
  },
  {
   "cell_type": "code",
   "execution_count": null,
   "metadata": {},
   "outputs": [],
   "source": [
    "weather_date = sweden_weather.groupby(by= \"date\").agg([\"mean\"])\n",
    "weather_date\n",
    "\n",
    "# the temperature above ground is in kelvin. celsius = k-273.15"
   ]
  },
  {
   "cell_type": "code",
   "execution_count": null,
   "metadata": {},
   "outputs": [],
   "source": [
    "\n",
    "# plotting the solar radiation by date \n",
    "\n",
    "solar_plot = weather_date[\"SolarRadiation\"].plot()\n",
    "\n",
    "# we need to learn how to make panda dataframes and how to manupulate the plots\n",
    "\n",
    "\n"
   ]
  },
  {
   "cell_type": "code",
   "execution_count": null,
   "metadata": {},
   "outputs": [],
   "source": []
  },
  {
   "cell_type": "code",
   "execution_count": null,
   "metadata": {},
   "outputs": [],
   "source": []
  }
 ],
 "metadata": {
  "interpreter": {
   "hash": "80eab23de070bf12c95a05150d854f47cf95fcaf8216263797900c0bb6f1aa4b"
  },
  "kernelspec": {
   "display_name": "Python 3.8.8 64-bit ('base': conda)",
   "language": "python",
   "name": "python3"
  },
  "language_info": {
   "codemirror_mode": {
    "name": "ipython",
    "version": 3
   },
   "file_extension": ".py",
   "mimetype": "text/x-python",
   "name": "python",
   "nbconvert_exporter": "python",
   "pygments_lexer": "ipython3",
   "version": "3.8.12"
  },
  "orig_nbformat": 4
 },
 "nbformat": 4,
 "nbformat_minor": 2
}
