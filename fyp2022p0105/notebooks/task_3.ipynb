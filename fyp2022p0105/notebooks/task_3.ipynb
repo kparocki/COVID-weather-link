{
 "cells": [
  {
   "cell_type": "code",
   "execution_count": null,
   "metadata": {},
   "outputs": [],
   "source": [
    "# importing \n",
    "\n",
    "\n",
    "import pandas as pd\n",
    "import folium, json\n",
    "import numpy as np \n",
    "import statsmodels.api as sm \n",
    "import matplotlib.pyplot as plt\n",
    "from scipy.stats import pearsonr, spearmanr \n",
    "from statsmodels.stats.multitest import multipletests\n",
    "\n"
   ]
  },
  {
   "cell_type": "code",
   "execution_count": null,
   "metadata": {},
   "outputs": [],
   "source": [
    "# defining the dataframe\n",
    "\n",
    "\n",
    "weather_df = pd.read_csv(\"../data/raw/weather/weather.csv\")\n",
    "\n",
    "# should be run only ONCE\n",
    "weather_df[\"TemperatureAboveGround\"] = weather_df[\"TemperatureAboveGround\"] - 273.15\n",
    "\n",
    "sweden_weather_df = weather_df[weather_df[\"iso3166-2\"].str.startswith(\"SE\")]\n",
    "\n",
    "#weather variables per day per region\n",
    "\n",
    "\n",
    "corona_df = pd.read_csv(\"../data/raw/corona/se_corona.csv\", sep = \"\\t\")\n",
    "#number of cases per day per region\n",
    "\n",
    "corona_df = corona_df.rename(columns = {\"confirmed_addition\":\"cases\"})\n",
    "\n",
    "with open(\"../data/raw/metadata/se_metadata.json\", \"r\", encoding=\"utf-8\") as f:\n",
    "    country_metadata = json.load(f)\n",
    "\n",
    "#population and region code per region\n",
    "\n"
   ]
  },
  {
   "cell_type": "code",
   "execution_count": null,
   "metadata": {},
   "outputs": [],
   "source": []
  },
  {
   "cell_type": "code",
   "execution_count": null,
   "metadata": {},
   "outputs": [],
   "source": [
    "# checking for NA values\n",
    "sweden_weather_df.isna().any().any()\n",
    "corona_df.isna().any().any()"
   ]
  },
  {
   "cell_type": "code",
   "execution_count": null,
   "metadata": {},
   "outputs": [],
   "source": [
    "# Stringency Index\n",
    "\n",
    "str_df = pd.read_csv(\"../data/raw/corona/stringency_index.csv\")\n",
    "str_df = str_df[(str_df[\"country_name\"] == \"Sweden\")]\n",
    "\n",
    "str_df = str_df.transpose()\n",
    "str_df = str_df[3:].dropna() #dropping NA values\n",
    "\n",
    "\n",
    "str_df = str_df.reset_index()\n",
    "str_df = str_df.rename(columns={\"index\": \"date\", 157: \"stringency_index\"})\n",
    "\n",
    "#changing string object to datetime\n",
    "str_df[\"date\"] = pd.to_datetime(str_df[\"date\"], format=\"%d%b%Y\")\n",
    "str_df[\"date\"] = str_df[\"date\"].dt.date\n",
    "\n",
    "\n",
    "region_map = {country_metadata[\"country_metadata\"][i][\"covid_region_code\"]: country_metadata[\"country_metadata\"][i][\"iso3166-2_code\"] for i in range (len(country_metadata[\"country_metadata\"]))\n",
    "}\n",
    "\n",
    "corona_df [\"region\"] = corona_df[\"region_code\"].map(region_map)\n",
    "\n",
    "\n",
    "\n",
    "\n",
    "population_map = {country_metadata[\"country_metadata\"][i][\"iso3166-2_code\"]: country_metadata[\"country_metadata\"][i][\"population\"] for i in range (len(country_metadata[\"country_metadata\"]))\n",
    "}\n",
    "\n",
    "\n",
    "corona_df[\"population\"] = corona_df[\"region\"].map(population_map) #adding another column\n",
    "corona_df[\"cases_per_capita\"] = corona_df[\"cases\"]/corona_df[\"population\"] #adding our factor - cases per capita\n",
    "\n",
    "\n",
    "\n",
    "merged_df = corona_df.merge(sweden_weather_df, left_on=[\"date\", \"region\"], right_on= [\"date\", \"iso3166-2\"]) \n",
    "#it matches two arguments, not merges on them. If you call the same thing twice, there will be one coulmn, but if you call two, it's different\n",
    "\n",
    "merged_df = merged_df.drop(\"iso3166-2\", axis = 1)\n",
    "merged_df = merged_df.rename(columns = {\"region_code\":\"region_name\", \"region\": \"region_code\"})\n",
    "\n",
    "merged_df[\"date\"] = pd.to_datetime(merged_df[\"date\"], format=\"%Y-%m-%d\") #converting string type to datetime to match in merge with SI\n",
    "merged_df[\"date\"] = merged_df[\"date\"].dt.date\n",
    "\n",
    "\n",
    "\n",
    "str_df_regions = pd.concat([str_df], ignore_index=True) #in Sweden there are 21 regions\n",
    "\n",
    "full_df = merged_df.merge(str_df_regions, on = \"date\") \n",
    "\n",
    "full_df"
   ]
  },
  {
   "cell_type": "code",
   "execution_count": null,
   "metadata": {},
   "outputs": [],
   "source": [
    "# defining dataframe with relevant information for regression\n",
    "\n",
    "weather_variable_subplot_regression = full_df.drop(\"region_name\",axis=1)\n",
    "weather_variable_subplot_regression = weather_variable_subplot_regression.drop(\"population\", axis=1)\n",
    "\n",
    "\n",
    "\n",
    "weather_variable_subplot_regression[\"stringency_index\"] = weather_variable_subplot_regression[\"stringency_index\"].astype(int)"
   ]
  },
  {
   "cell_type": "markdown",
   "metadata": {},
   "source": []
  },
  {
   "cell_type": "code",
   "execution_count": null,
   "metadata": {},
   "outputs": [],
   "source": [
    "# definition of XS\n",
    "Xs= [\"RelativeHumiditySurface\", \"SolarRadiation\", \"Surfacepressure\", \"TemperatureAboveGround\", \"Totalprecipitation\", \"UVIndex\", \"WindSpeed\", \"stringency_index\"]\n",
    "weather_variable_subplot_regression = sm.add_constant(weather_variable_subplot_regression)\n",
    "Xs.append(\"const\")"
   ]
  },
  {
   "cell_type": "code",
   "execution_count": null,
   "metadata": {},
   "outputs": [],
   "source": [
    "# Multivariate regression with stringency index linear\n",
    "\n",
    "est = sm.OLS(weather_variable_subplot_regression[\"cases\"], weather_variable_subplot_regression[Xs], hasconst = True).fit()\n",
    "\n",
    "print(est.summary())"
   ]
  },
  {
   "cell_type": "code",
   "execution_count": null,
   "metadata": {},
   "outputs": [],
   "source": [
    "# Multivariate regression with stringency index log\n",
    "\n",
    "est = sm.OLS(np.log(weather_variable_subplot_regression[\"cases\"]+1), weather_variable_subplot_regression[Xs], hasconst = True).fit()\n",
    "print(est.summary())"
   ]
  },
  {
   "cell_type": "markdown",
   "metadata": {},
   "source": []
  },
  {
   "cell_type": "code",
   "execution_count": null,
   "metadata": {},
   "outputs": [],
   "source": [
    "# MUltivariate regression per capita, Yes stringency index, LOG\n",
    "\n",
    "est = sm.OLS(np.log(weather_variable_subplot_regression[\"cases_per_capita\"]+1), weather_variable_subplot_regression[Xs], hasconst = True).fit()\n",
    "print(est.summary())"
   ]
  },
  {
   "cell_type": "markdown",
   "metadata": {},
   "source": []
  },
  {
   "cell_type": "code",
   "execution_count": null,
   "metadata": {},
   "outputs": [],
   "source": [
    "# multivariate regression for all the regions - log, changing XS adding the regions. cases per capita\n",
    "Xs4= [\"RelativeHumiditySurface\", \"SolarRadiation\", \"Surfacepressure\", \"TemperatureAboveGround\", \"Totalprecipitation\", \"UVIndex\", \"WindSpeed\"]\n",
    "\n",
    "regions= [\"const\",]\n",
    "\n",
    "for region in set(weather_variable_subplot_regression[\"region_code\"]):\n",
    "    if region != \"SE-K\":\n",
    "        weather_variable_subplot_regression[region] = (weather_variable_subplot_regression[\"region_code\"] == region).astype(int)\n",
    "        regions.append(region)\n",
    "        Xs4.append(region)\n",
    "\n",
    "weather_variable_subplot_regression[\"const\"] = 1.0\n",
    "#lists = []\n",
    "#lists.append(weather_variable_subplot_regression.iloc[0])\n",
    "\n",
    "#lists\n",
    "\n",
    "\n",
    "#weather_variable_subplot_regression\n",
    "est = sm.OLS(np.log(weather_variable_subplot_regression[\"cases_per_capita\"] + 1), weather_variable_subplot_regression[regions], hasconst = True).fit()\n",
    "\n",
    "print(est.summary())"
   ]
  },
  {
   "cell_type": "code",
   "execution_count": null,
   "metadata": {},
   "outputs": [],
   "source": [
    "#multivariate regression per capita, regions and weather log \n",
    "\n",
    "est = sm.OLS(np.log(weather_variable_subplot_regression[\"cases_per_capita\"] + 1), weather_variable_subplot_regression[Xs], hasconst = True).fit()\n",
    "\n",
    "print(est.summary())"
   ]
  },
  {
   "cell_type": "code",
   "execution_count": null,
   "metadata": {},
   "outputs": [],
   "source": [
    "#multivariate regression per capita, regions and wether log. clustered for standarderror NO\n",
    "\n",
    "#est = sm.OLS(np.log(weather_variable_subplot_regression[\"cases_per_capita\"] + 1), weather_variable_subplot_regression[Xs], hasconst = True).fit(cov_type = \"cluster\", cov_kwds = {\"groups\": weather_variable_subplot_regression[\"region_code\"]}, use_t =True)\n",
    "\n",
    "#print(est.summary())\n"
   ]
  },
  {
   "cell_type": "markdown",
   "metadata": {},
   "source": []
  },
  {
   "cell_type": "code",
   "execution_count": null,
   "metadata": {},
   "outputs": [],
   "source": [
    "# multivariate regression with all weather variable, NO Stringency index, linear\n",
    "\n",
    "Xs3= [\"RelativeHumiditySurface\", \"SolarRadiation\", \"Surfacepressure\", \"TemperatureAboveGround\", \"Totalprecipitation\", \"UVIndex\", \"WindSpeed\"]\n",
    "weather_variable_subplot_regression = sm.add_constant(weather_variable_subplot_regression)\n",
    "Xs3.append(\"const\")\n",
    "\n",
    "\n",
    "est = sm.OLS(weather_variable_subplot_regression[\"cases\"], weather_variable_subplot_regression[Xs3], hasconst = True).fit()\n",
    "\n",
    "print(est.summary())"
   ]
  },
  {
   "cell_type": "code",
   "execution_count": null,
   "metadata": {},
   "outputs": [],
   "source": [
    "# multivariate regression with all weather variable, NO Stringency index, log\n",
    "\n",
    "Xs3= [\"RelativeHumiditySurface\", \"SolarRadiation\", \"Surfacepressure\", \"TemperatureAboveGround\", \"Totalprecipitation\", \"UVIndex\", \"WindSpeed\"]\n",
    "weather_variable_subplot_regression = sm.add_constant(weather_variable_subplot_regression)\n",
    "Xs3.append(\"const\")\n",
    "\n",
    "\n",
    "est = sm.OLS(np.log(weather_variable_subplot_regression[\"cases\"]+1), weather_variable_subplot_regression[Xs3], hasconst = True).fit()\n",
    "\n",
    "print(est.summary())"
   ]
  },
  {
   "cell_type": "markdown",
   "metadata": {},
   "source": []
  },
  {
   "cell_type": "code",
   "execution_count": null,
   "metadata": {},
   "outputs": [],
   "source": [
    "# multivariate regression with only three values\n",
    "\n",
    "Xs2= [\"RelativeHumiditySurface\", \"TemperatureAboveGround\", \"WindSpeed\"]\n",
    "\n",
    "weather_variable_subplot_regression = sm.add_constant(weather_variable_subplot_regression)\n",
    "Xs2.append(\"const\")\n",
    "\n",
    "\n",
    "est = sm.OLS(np.log(weather_variable_subplot_regression[\"cases_per_capita\"]+1), weather_variable_subplot_regression[Xs2], hasconst = True).fit()\n",
    "\n",
    "print(est.summary())\n"
   ]
  }
 ],
 "metadata": {
  "interpreter": {
   "hash": "80eab23de070bf12c95a05150d854f47cf95fcaf8216263797900c0bb6f1aa4b"
  },
  "kernelspec": {
   "display_name": "Python 3.8.8 ('base')",
   "language": "python",
   "name": "python3"
  },
  "language_info": {
   "codemirror_mode": {
    "name": "ipython",
    "version": 3
   },
   "file_extension": ".py",
   "mimetype": "text/x-python",
   "name": "python",
   "nbconvert_exporter": "python",
   "pygments_lexer": "ipython3",
   "version": "3.8.8"
  },
  "orig_nbformat": 4
 },
 "nbformat": 4,
 "nbformat_minor": 2
}
