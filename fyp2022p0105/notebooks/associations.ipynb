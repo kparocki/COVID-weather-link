{
 "cells": [
  {
   "cell_type": "code",
   "execution_count": null,
   "metadata": {
    "cell_id": "b453c1e6-72b2-4c92-b883-8b03410e39ee",
    "deepnote_cell_type": "code",
    "deepnote_to_be_reexecuted": false,
    "execution_millis": 4599,
    "execution_start": 1644499836214,
    "source_hash": "f99cd760",
    "tags": []
   },
   "outputs": [],
   "source": [
    "!pip install statsmodels\n",
    "\n",
    "import pandas as pd\n",
    "import folium, json\n",
    "import numpy as np \n",
    "import statsmodels.api as sm \n",
    "from scipy.stats import pearsonr, spearmanr \n",
    "from statsmodels.stats.multitest import multipletests"
   ]
  },
  {
   "cell_type": "code",
   "execution_count": null,
   "metadata": {
    "cell_id": "53640302-b5f7-48b0-92be-bfcd59da8e04",
    "deepnote_cell_type": "code",
    "deepnote_to_be_reexecuted": false,
    "execution_millis": 103,
    "execution_start": 1644499840817,
    "source_hash": "514dfb6e",
    "tags": []
   },
   "outputs": [],
   "source": [
    "geo_json_path = \"../data/raw/shapefiles/se.geojson\"\n",
    "corona_df = pd.read_csv(\"../data/raw/corona/se_corona.csv\", sep = \"\\t\")\n",
    "\n",
    "with open(\"../data/raw/metadata/se_metadata.json\", \"r\", encoding=\"utf-8\") as f:\n",
    "    country_metadata = json.load(f)\n",
    "\n",
    "\n",
    "region_map = {country_metadata[\"country_metadata\"][i][\"covid_region_code\"]: country_metadata[\"country_metadata\"][i][\"iso3166-2_code\"] for i in range(len(country_metadata[\"country_metadata\"]))}\n",
    "\n",
    "corona_df[\"iso3166-2\"] = corona_df[\"region_code\"].map(region_map)\n",
    "\n",
    "corona_df"
   ]
  },
  {
   "cell_type": "code",
   "execution_count": null,
   "metadata": {
    "cell_id": "d8445273-ff60-4e2c-a064-aa066520dbfa",
    "deepnote_cell_type": "code",
    "deepnote_to_be_reexecuted": false,
    "execution_millis": 202,
    "execution_start": 1644499840904,
    "source_hash": "b118bc7f",
    "tags": []
   },
   "outputs": [],
   "source": [
    "weather_df = pd.read_csv(\"../data/raw/weather/weather.csv\")\n",
    "\n",
    "# should be run only ONCE\n",
    "weather_df[\"TemperatureAboveGround\"] = weather_df[\"TemperatureAboveGround\"] - 273.15\n",
    "\n",
    "weather_df = weather_df[weather_df[\"iso3166-2\"].str.startswith(\"SE\")]\n",
    "\n",
    "weather_df\n",
    "\n",
    "\n",
    "\n",
    "\n"
   ]
  },
  {
   "cell_type": "code",
   "execution_count": null,
   "metadata": {
    "cell_id": "c1c87532-d569-4a38-874d-1d450ccb92e2",
    "deepnote_cell_type": "code",
    "deepnote_output_heights": [
     405
    ],
    "deepnote_to_be_reexecuted": false,
    "execution_millis": 79,
    "execution_start": 1644499841056,
    "source_hash": "9af79e6d",
    "tags": []
   },
   "outputs": [],
   "source": [
    "population_map = {country_metadata[\"country_metadata\"][i][\"iso3166-2_code\"]: country_metadata[\"country_metadata\"][i][\"population\"] for i in range (len(country_metadata[\"country_metadata\"]))\n",
    "}\n",
    "\n",
    "population_map"
   ]
  },
  {
   "cell_type": "code",
   "execution_count": null,
   "metadata": {
    "cell_id": "730e014d-4e58-49ab-be0a-84aa76c061f6",
    "deepnote_cell_type": "code",
    "deepnote_table_loading": false,
    "deepnote_table_state": {
     "filters": [],
     "pageIndex": 0,
     "pageSize": 10,
     "sortBy": []
    },
    "deepnote_to_be_reexecuted": false,
    "execution_millis": 128,
    "execution_start": 1644499841059,
    "source_hash": "1396ed39",
    "tags": []
   },
   "outputs": [],
   "source": [
    "merged_df = corona_df.merge(weather_df, left_on=[\"date\", \"iso3166-2\"], right_on= [\"date\", \"iso3166-2\"])\n",
    "\n",
    "merged_df\n",
    "\n",
    "\n",
    "\n"
   ]
  },
  {
   "cell_type": "code",
   "execution_count": null,
   "metadata": {
    "cell_id": "8eebc406-fdf9-4823-bf87-15333d756d8f",
    "deepnote_cell_type": "code",
    "deepnote_output_heights": [
     21.1875
    ],
    "deepnote_to_be_reexecuted": false,
    "execution_millis": 1,
    "execution_start": 1644499841188,
    "source_hash": "cc27b834",
    "tags": []
   },
   "outputs": [],
   "source": [
    "merged_size = merged_df.shape\n",
    "\n",
    "corona_size = corona_df.shape\n",
    "\n",
    "weather_size = weather_df.shape\n",
    "\n",
    "print(merged_size)\n",
    "\n",
    "print(corona_size)\n",
    "print(weather_size)\n",
    "\n",
    "#We lost row but that's okay. I'm holding well, thank you\n",
    "\n",
    "# we lost rows but it is ok cause if we dont have values of one, \n",
    "#but only of the second, it doesnt make sense to have half values that cant \n",
    "#be compared. "
   ]
  },
  {
   "cell_type": "code",
   "execution_count": null,
   "metadata": {
    "cell_id": "3e13f4bc-3208-477e-b939-eadad02191d0",
    "deepnote_cell_type": "code",
    "deepnote_to_be_reexecuted": false,
    "execution_millis": 9,
    "execution_start": 1644499841230,
    "source_hash": "b44d3081",
    "tags": []
   },
   "outputs": [],
   "source": [
    "# Pearson \n",
    "\n",
    "Xs= [\"RelativeHumiditySurface\", \"SolarRadiation\", \"Surfacepressure\", \"TemperatureAboveGround\", \"Totalprecipitation\", \"UVIndex\", \"WindSpeed\"]\n",
    "\n",
    "significance_threshold = 0.005/7\n",
    "\n",
    "\n",
    "for var in Xs: \n",
    "    corr, pvalue = pearsonr(merged_df[\"confirmed_addition\"], merged_df[var])\n",
    "    print(f\"{var}\\n{corr:.3f}\\t{pvalue}\\t{pvalue < significance_threshold}\\n\")\n",
    "\n"
   ]
  },
  {
   "cell_type": "code",
   "execution_count": null,
   "metadata": {
    "cell_id": "6efcd777-ddbf-407f-91f8-d3dccb0473a7",
    "deepnote_cell_type": "code",
    "deepnote_to_be_reexecuted": false,
    "execution_millis": 8,
    "execution_start": 1644499841231,
    "source_hash": "90e04ed6",
    "tags": []
   },
   "outputs": [],
   "source": [
    "# Spearman \n",
    "\n",
    "Xs= [\"RelativeHumiditySurface\", \"SolarRadiation\", \"Surfacepressure\", \"TemperatureAboveGround\", \"Totalprecipitation\", \"UVIndex\", \"WindSpeed\"]\n",
    "\n",
    "significance_threshold = 0.005/7  # \n",
    "\n",
    "for var in Xs: \n",
    "    corr, pvalue = spearmanr(merged_df[\"confirmed_addition\"], merged_df[var])\n",
    "    print(f\"{var}\\n{corr:.3f}\\t{pvalue}\\t{pvalue < significance_threshold}\\n\")\n"
   ]
  },
  {
   "cell_type": "code",
   "execution_count": null,
   "metadata": {
    "cell_id": "a12628a6-f156-486c-bf72-03cff07c96a3",
    "deepnote_cell_type": "code",
    "deepnote_output_heights": [
     193
    ],
    "deepnote_to_be_reexecuted": false,
    "execution_millis": 15,
    "execution_start": 1644499841233,
    "source_hash": "21281fc7",
    "tags": []
   },
   "outputs": [],
   "source": [
    "# Log Log\n",
    "\n",
    "Xs= [\"RelativeHumiditySurface\", \"SolarRadiation\", \"Surfacepressure\", \"TemperatureAboveGround\", \"Totalprecipitation\", \"UVIndex\", \"WindSpeed\"]\n",
    "\n",
    "significance_threshold = 0.005/7 #Bonferroni correction\n",
    "\n",
    "for var in Xs: \n",
    "    corr, pvalue = pearsonr(np.log(merged_df[\"confirmed_addition\"]+1), merged_df[var])\n",
    "    print(f\"{var}\\n{corr:.3f}\\t{pvalue}\\t{pvalue < significance_threshold}\\n\")"
   ]
  },
  {
   "cell_type": "code",
   "execution_count": null,
   "metadata": {
    "cell_id": "f3925ab0-9bd8-4203-b4d4-69e1295e4bf4",
    "deepnote_cell_type": "code",
    "deepnote_output_heights": [
     213
    ],
    "deepnote_to_be_reexecuted": false,
    "execution_millis": 141,
    "execution_start": 1644499841247,
    "source_hash": "b6668605",
    "tags": []
   },
   "outputs": [],
   "source": [
    "#statsmodels.stats.multitest.multipletests\n",
    "pvalues = []\n",
    "tests = (\"linear\", \"spearman\", \"log\")\n",
    "\n",
    "for var in Xs:\n",
    "    corr, pvalue = pearsonr(merged_df[\"confirmed_addition\"], merged_df[var])\n",
    "    pvalues.append(pvalue)\n",
    "for var in Xs:\n",
    "    corr, pvalue = spearmanr(merged_df[\"confirmed_addition\"], merged_df[var])\n",
    "    pvalues.append(pvalue)\n",
    "\n",
    "\n",
    "for var in Xs: \n",
    "    corr, pvalue = pearsonr(np.log(merged_df[\"confirmed_addition\"]+1), merged_df[var])\n",
    "    pvalues.append(pvalue)\n",
    "    \n",
    "significant, pholmcorrected, _ , _ = multipletests(pvalues, alpha = 0.005, method = \"holm\")\n",
    "\n",
    "for i in range(len(tests)):\n",
    "    for j in range(len(Xs)):\n",
    "        pvalue = pearsonr(np.log(merged_df[\"confirmed_addition\"]+1), merged_df[var])\n",
    "    \n",
    "significant, pholmcorrected, _ , _ = multipletests(pvalues, alpha = 0.05, method = \"holm\")\n",
    "\n",
    "for i in range(len(tests)):\n",
    "    for j in range(len(Xs)):\n",
    "        print(f\"{tests[i]}\\t{Xs[j]}\\t{significant[i+j]}\")"
   ]
  },
  {
   "cell_type": "markdown",
   "metadata": {
    "cell_id": "f36dc90d-b759-4cc1-91a8-1ddfda89ce08",
    "deepnote_cell_type": "markdown",
    "tags": []
   },
   "source": [
    "The hypotheses for which the Bonferroni and Holm-Bonferroni disagree are as follows:\n",
    "\n",
    "in Pearson:\n",
    "* all match\n",
    "\n",
    "in Spearman:\n",
    "* all match\n",
    "\n",
    "in Loglog:\n",
    "* Surfacepressure\n",
    "* Totalprecipitation\n"
   ]
  },
  {
   "cell_type": "code",
   "execution_count": null,
   "metadata": {
    "cell_id": "6e0bb668-277f-44b3-bb1a-a25970bc5388",
    "deepnote_cell_type": "code",
    "deepnote_to_be_reexecuted": false,
    "execution_millis": 1,
    "execution_start": 1644499841389,
    "source_hash": "b623e53d",
    "tags": []
   },
   "outputs": [],
   "source": []
  },
  {
   "cell_type": "markdown",
   "metadata": {
    "created_in_deepnote_cell": true,
    "deepnote_cell_type": "markdown",
    "tags": []
   },
   "source": [
    "<a style='text-decoration:none;line-height:16px;display:flex;color:#5B5B62;padding:10px;justify-content:end;' href='https://deepnote.com?utm_source=created-in-deepnote-cell&projectId=16528e8b-211f-4536-8a49-afddba94916d' target=\"_blank\">\n",
    "<img alt='Created in deepnote.com' style='display:inline;max-height:16px;margin:0px;margin-right:7.5px;' src='data:image/svg+xml;base64,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' > </img>\n",
    "Created in <span style='font-weight:600;margin-left:4px;'>Deepnote</span></a>"
   ]
  }
 ],
 "metadata": {
  "deepnote": {
   "is_reactive": false
  },
  "deepnote_execution_queue": [],
  "deepnote_notebook_id": "0aee2176-fd0c-4c57-a75f-bb1ef3874013",
  "language_info": {
   "name": "python"
  },
  "orig_nbformat": 2
 },
 "nbformat": 4,
 "nbformat_minor": 2
}
