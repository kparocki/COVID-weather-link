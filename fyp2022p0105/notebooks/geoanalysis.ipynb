{
 "cells": [
  {
   "cell_type": "code",
   "execution_count": null,
   "metadata": {},
   "outputs": [],
   "source": [
    "import pandas as pd\n",
    "import folium, json"
   ]
  },
  {
   "cell_type": "code",
   "execution_count": null,
   "metadata": {},
   "outputs": [],
   "source": [
    "s_map = folium.Map(location = [63,15], zoom_start = 5)\n",
    "s_map"
   ]
  },
  {
   "cell_type": "code",
   "execution_count": null,
   "metadata": {},
   "outputs": [],
   "source": [
    "geo_json_path = \"../data/raw/shapefiles/se.geojson\"\n",
    "corona_df = pd.read_csv(\"../data/raw/corona/se_corona.csv\", sep = \"\\t\")\n",
    "\n",
    "with open(\"../data/raw/metadata/se_metadata.json\", \"r\", encoding=\"utf-8\") as f:\n",
    "    country_metadata = json.load(f)\n"
   ]
  },
  {
   "cell_type": "code",
   "execution_count": null,
   "metadata": {},
   "outputs": [],
   "source": [
    "region_map = {country_metadata[\"country_metadata\"][i][\"covid_region_code\"]: country_metadata[\"country_metadata\"][i][\"iso3166-2_code\"] for i in range (len(country_metadata[\"country_metadata\"]))\n",
    "}\n",
    "\n",
    "region_map"
   ]
  },
  {
   "cell_type": "code",
   "execution_count": null,
   "metadata": {},
   "outputs": [],
   "source": [
    "corona_df [\"region\"] = corona_df[\"region_code\"].map(region_map)\n",
    "corona_df"
   ]
  },
  {
   "cell_type": "code",
   "execution_count": null,
   "metadata": {},
   "outputs": [],
   "source": [
    "corona_df_by_region = corona_df.groupby(by = \"region\")[\"confirmed_addition\"].sum().reset_index()\n",
    "corona_df_by_region"
   ]
  },
  {
   "cell_type": "code",
   "execution_count": null,
   "metadata": {},
   "outputs": [],
   "source": [
    "population_map = {country_metadata[\"country_metadata\"][i][\"iso3166-2_code\"]: country_metadata[\"country_metadata\"][i][\"population\"] for i in range (len(country_metadata[\"country_metadata\"]))\n",
    "}\n",
    "\n",
    "population_map"
   ]
  },
  {
   "cell_type": "code",
   "execution_count": null,
   "metadata": {},
   "outputs": [],
   "source": [
    "corona_df_by_region[\"population\"] = corona_df_by_region[\"region\"].map(population_map) #adding another column\n",
    "\n",
    "\n",
    "corona_df_by_region"
   ]
  },
  {
   "cell_type": "code",
   "execution_count": null,
   "metadata": {},
   "outputs": [],
   "source": [
    "# visualizes the cases\n",
    "map_cases = folium.Map(location = [63,15], zoom_start = 4)\n",
    "\n",
    "folium.Choropleth(\n",
    "    geo_data=geo_json_path,\n",
    "    name = \"cases\",\n",
    "    data = corona_df_by_region,\n",
    "    columns=[\"region\", \"confirmed_addition\"],\n",
    "    key_on = \"properties.iso_3166_2\",\n",
    "    fill_color = \"OrRd\",\n",
    "    fill_opacity = 0.7,\n",
    "    line_opacity = 0.2,\n",
    "    legend_name=\"Confirmed Cases\"\n",
    ").add_to(map_cases)\n",
    "\n",
    "map_cases"
   ]
  },
  {
   "cell_type": "code",
   "execution_count": null,
   "metadata": {},
   "outputs": [],
   "source": [
    "# visualizes the population\n",
    "map_population = folium.Map(location = [63,15], zoom_start = 4)\n",
    "\n",
    "folium.Choropleth(\n",
    "    geo_data=geo_json_path,\n",
    "    name = \"cases\",\n",
    "    data = corona_df_by_region,\n",
    "    columns=[\"region\", \"population\"],\n",
    "    key_on = \"properties.iso_3166_2\",\n",
    "    fill_color = \"OrRd\",\n",
    "    fill_opacity = 0.7,\n",
    "    line_opacity = 0.2,\n",
    "    legend_name=\"Population\"\n",
    ").add_to(map_population)\n",
    "\n",
    "map_population"
   ]
  },
  {
   "cell_type": "code",
   "execution_count": null,
   "metadata": {},
   "outputs": [],
   "source": [
    "# visualizes the cases per capita\n",
    "corona_df_by_region[\"per_capita\"] = corona_df_by_region[\"confirmed_addition\"] / corona_df_by_region[\"population\"]\n",
    "\n",
    "\n",
    "map_cases_capita = folium.Map(location = [63,15], zoom_start = 4)\n",
    "\n",
    "\n",
    "folium.Choropleth(\n",
    "    geo_data=geo_json_path,\n",
    "    name = \"cases\",\n",
    "    data = corona_df_by_region,\n",
    "    columns=[\"region\", \"per_capita\"],\n",
    "    key_on = \"properties.iso_3166_2\",\n",
    "    fill_color = \"OrRd\",\n",
    "    fill_opacity = 0.7,\n",
    "    line_opacity = 0.2,\n",
    "    legend_name=\"Cases per Capita\"\n",
    ").add_to(map_cases_capita)\n",
    "\n",
    "folium.LayerControl().add_to(map_cases_capita) \n",
    "\n",
    "map_cases_capita"
   ]
  },
  {
   "cell_type": "code",
   "execution_count": null,
   "metadata": {},
   "outputs": [],
   "source": [
    "corona_df_by_region "
   ]
  },
  {
   "cell_type": "code",
   "execution_count": null,
   "metadata": {},
   "outputs": [],
   "source": []
  },
  {
   "cell_type": "code",
   "execution_count": null,
   "metadata": {},
   "outputs": [],
   "source": []
  }
 ],
 "metadata": {
  "interpreter": {
   "hash": "b3ba2566441a7c06988d0923437866b63cedc61552a5af99d1f4fb67d367b25f"
  },
  "kernelspec": {
   "display_name": "Python 3.8.12 ('base')",
   "language": "python",
   "name": "python3"
  },
  "language_info": {
   "codemirror_mode": {
    "name": "ipython",
    "version": 3
   },
   "file_extension": ".py",
   "mimetype": "text/x-python",
   "name": "python",
   "nbconvert_exporter": "python",
   "pygments_lexer": "ipython3",
   "version": "3.8.12"
  },
  "orig_nbformat": 4
 },
 "nbformat": 4,
 "nbformat_minor": 2
}
