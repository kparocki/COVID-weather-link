{
 "cells": [
  {
   "cell_type": "code",
   "execution_count": null,
   "metadata": {
    "cell_id": "c923d1a2-1469-491c-ab0f-13974ab2e9ca",
    "deepnote_cell_type": "code",
    "deepnote_to_be_reexecuted": false,
    "execution_millis": 19340,
    "execution_start": 1645097766279,
    "source_hash": "33be5eca",
    "tags": []
   },
   "outputs": [],
   "source": [
    "!pip install statsmodels\n",
    "\n",
    "import pandas as pd\n",
    "import json\n",
    "import numpy as np \n",
    "import statsmodels.api as sm \n",
    "from scipy.stats import pearsonr, spearmanr "
   ]
  },
  {
   "cell_type": "code",
   "execution_count": null,
   "metadata": {
    "cell_id": "335130c1-d55e-46d2-94a2-91cadca4bd1f",
    "deepnote_cell_type": "code",
    "deepnote_to_be_reexecuted": false,
    "execution_millis": 7,
    "execution_start": 1645097785635,
    "source_hash": "b623e53d",
    "tags": []
   },
   "outputs": [],
   "source": []
  },
  {
   "cell_type": "markdown",
   "metadata": {
    "cell_id": "26c02cb9-3a9a-4897-bfb4-f774df30d407",
    "deepnote_cell_type": "markdown",
    "tags": []
   },
   "source": [
    "![Picture title](image-20220215-122736.png)"
   ]
  },
  {
   "cell_type": "code",
   "execution_count": null,
   "metadata": {
    "cell_id": "85c4c6a6-3099-4ff4-9172-d4e3a0433a55",
    "deepnote_cell_type": "code",
    "deepnote_to_be_reexecuted": false,
    "execution_millis": 30,
    "execution_start": 1645097785651,
    "source_hash": "b623e53d",
    "tags": []
   },
   "outputs": [],
   "source": []
  },
  {
   "cell_type": "code",
   "execution_count": null,
   "metadata": {
    "cell_id": "cf3fdeca-3946-4dd1-98b7-b9e9cc13ee59",
    "deepnote_cell_type": "code",
    "deepnote_output_heights": [
     595
    ],
    "deepnote_to_be_reexecuted": false,
    "execution_millis": 482,
    "execution_start": 1645097785683,
    "source_hash": "2fe1bbdc",
    "tags": []
   },
   "outputs": [],
   "source": [
    "geo_json_path = \"../data/raw/shapefiles/se.geojson\" \n",
    "corona_df = pd.read_csv(\"../data/raw/corona/se_corona.csv\", sep = \"\\t\")\n",
    "with open(\"../data/raw/metadata/se_metadata.json\", \"r\", encoding=\"utf-8\") as f: country_metadata = json.load(f)\n",
    "\n",
    "region_map = {country_metadata[\"country_metadata\"][i][\"covid_region_code\"]: country_metadata[\"country_metadata\"][i][\"iso3166-2_code\"] for i in range(len(country_metadata[\"country_metadata\"]))}\n",
    "corona_df[\"iso3166-2\"] = corona_df[\"region_code\"].map(region_map)\n",
    "\n",
    "population_map = {country_metadata[\"country_metadata\"][i][\"iso3166-2_code\"]: country_metadata[\"country_metadata\"][i][\"population\"] for i in range (len(country_metadata[\"country_metadata\"]))\n",
    "}\n",
    "\n",
    "corona_df [\"region\"] = corona_df[\"region_code\"].map(region_map)\n",
    "\n",
    "\n",
    "corona_df_by_region = corona_df.groupby(by = \"region\")[\"confirmed_addition\"].sum().reset_index()\n",
    "corona_df_by_region[\"population\"] = corona_df_by_region[\"region\"].map(population_map)\n",
    "corona_df_by_region[\"per_capita\"] = corona_df_by_region[\"confirmed_addition\"] / corona_df_by_region[\"population\"]\n",
    "\n",
    "\n",
    "weather_df = pd.read_csv(\"../data/raw/weather/weather.csv\")\n",
    "# should be run only ONCE\n",
    "weather_df[\"TemperatureAboveGround\"] = weather_df[\"TemperatureAboveGround\"] - 273.15\n",
    "weather_df = weather_df[weather_df[\"iso3166-2\"].str.startswith(\"SE\")]\n",
    "\n",
    "df = corona_df.merge(weather_df, left_on=[\"date\", \"iso3166-2\"], right_on= [\"date\", \"iso3166-2\"])\n",
    "#df = df.merge(corona_df_by_region, left_on=[\"region\"], right_on=[\"region\"])\n",
    "\n",
    "df\n"
   ]
  },
  {
   "cell_type": "code",
   "execution_count": null,
   "metadata": {
    "cell_id": "f6a5c930-abcf-4c28-9732-7a56ead00c56",
    "deepnote_cell_type": "code",
    "deepnote_to_be_reexecuted": false,
    "execution_millis": 28,
    "execution_start": 1645097786171,
    "source_hash": "a2b3fd55",
    "tags": []
   },
   "outputs": [],
   "source": [
    "Xs= [\"RelativeHumiditySurface\", \"SolarRadiation\", \"Surfacepressure\", \"TemperatureAboveGround\", \"Totalprecipitation\", \"UVIndex\", \"WindSpeed\"]\n",
    "\n",
    "df = sm.add_constant(df)\n",
    "Xs.append(\"const\")"
   ]
  },
  {
   "cell_type": "code",
   "execution_count": null,
   "metadata": {
    "cell_id": "fc1fc4ab-dafc-4bdd-901d-bbfdb36b5038",
    "deepnote_cell_type": "code",
    "deepnote_to_be_reexecuted": false,
    "execution_millis": 17,
    "execution_start": 1645097786205,
    "source_hash": "718f4ec2",
    "tags": []
   },
   "outputs": [],
   "source": [
    "print(Xs)"
   ]
  },
  {
   "cell_type": "code",
   "execution_count": null,
   "metadata": {
    "cell_id": "05d558d4-3359-413c-b0c3-fade142bc40f",
    "deepnote_cell_type": "code",
    "deepnote_to_be_reexecuted": false,
    "execution_millis": 73,
    "execution_start": 1645097786228,
    "source_hash": "a28eb6cf",
    "tags": []
   },
   "outputs": [],
   "source": [
    "est = sm.OLS(df[\"confirmed_addition\"], df[Xs], hasconst = True).fit()\n",
    "\n",
    "print(est.summary())"
   ]
  },
  {
   "cell_type": "code",
   "execution_count": null,
   "metadata": {
    "cell_id": "be465ac7-25a6-42b4-8529-73dca3343f74",
    "deepnote_cell_type": "code",
    "deepnote_to_be_reexecuted": false,
    "execution_millis": 58,
    "execution_start": 1645097786307,
    "source_hash": "50baf27d",
    "tags": []
   },
   "outputs": [],
   "source": [
    "est = sm.OLS(np.log(df[\"confirmed_addition\"]+1), df[Xs], hasconst = True).fit()\n",
    "print(est.summary())"
   ]
  },
  {
   "cell_type": "markdown",
   "metadata": {
    "cell_id": "af693fa4-4e08-4c8b-a18c-f4ee133d235b",
    "deepnote_cell_type": "markdown",
    "tags": []
   },
   "source": []
  },
  {
   "cell_type": "code",
   "execution_count": null,
   "metadata": {
    "cell_id": "2f64c33d-8dd6-497d-b2e7-7a09ed5a61b3",
    "deepnote_cell_type": "code",
    "deepnote_output_heights": [
     597.125
    ],
    "deepnote_to_be_reexecuted": false,
    "execution_millis": 832,
    "execution_start": 1645097786373,
    "source_hash": "d96c7f44",
    "tags": []
   },
   "outputs": [],
   "source": [
    "regions= [\"const\",]\n",
    "\n",
    "for region in set(df[\"iso3166-2\"]):\n",
    "    if region != \"SE-K\":\n",
    "        df[region] = (df[\"iso3166-2\"] == region).astype(int)\n",
    "        regions.append(region)\n",
    "        Xs.append(region)\n",
    "\n",
    "est = sm.OLS(np.log(df[\"per_capita\"] + 1), df[regions], hasconst = True).fit()\n",
    "\n",
    "print(est.summary())"
   ]
  },
  {
   "cell_type": "markdown",
   "metadata": {
    "cell_id": "0bc361a5-9c71-45e2-8841-c8e04f2f8570",
    "deepnote_cell_type": "markdown",
    "tags": []
   },
   "source": []
  }
 ],
 "metadata": {
  "deepnote": {
   "is_reactive": false
  },
  "deepnote_execution_queue": [],
  "deepnote_notebook_id": "4ee987b0-33d0-4b0d-a9cb-7522c4a53b3e",
  "language_info": {
   "name": "python"
  },
  "orig_nbformat": 2
 },
 "nbformat": 4,
 "nbformat_minor": 2
}
